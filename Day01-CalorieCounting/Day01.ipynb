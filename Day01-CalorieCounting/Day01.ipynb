{
 "cells": [
  {
   "attachments": {},
   "cell_type": "markdown",
   "metadata": {},
   "source": [
    "# Problem 1"
   ]
  },
  {
   "cell_type": "code",
   "execution_count": 1,
   "metadata": {},
   "outputs": [
    {
     "name": "stdout",
     "output_type": "stream",
     "text": [
      "68467\n"
     ]
    }
   ],
   "source": [
    "with open('Day01Input.txt', 'r') as f:\n",
    "    most_calories = 0\n",
    "    \n",
    "    current_elf_calories = 0\n",
    "    for line in f:\n",
    "        if line == '\\n':\n",
    "            if current_elf_calories > most_calories:\n",
    "                most_calories = current_elf_calories\n",
    "            current_elf_calories = 0\n",
    "        else:\n",
    "            current_elf_calories += int(line)\n",
    "    print(most_calories)"
   ]
  },
  {
   "attachments": {},
   "cell_type": "markdown",
   "metadata": {},
   "source": [
    "# Problem 2"
   ]
  },
  {
   "cell_type": "code",
   "execution_count": 2,
   "metadata": {},
   "outputs": [
    {
     "name": "stdout",
     "output_type": "stream",
     "text": [
      "203420\n"
     ]
    }
   ],
   "source": [
    "elfs = []\n",
    "\n",
    "with open('Day01Input.txt', 'r') as f:\n",
    "    current_elf_calories = 0\n",
    "    for line in f:\n",
    "        if line == '\\n':\n",
    "            elfs.append(current_elf_calories)\n",
    "            current_elf_calories = 0\n",
    "        else:\n",
    "            current_elf_calories += int(line)\n",
    "            \n",
    "elfs.sort()\n",
    "print(sum(elfs[-3:]))"
   ]
  }
 ],
 "metadata": {
  "kernelspec": {
   "display_name": "Python 3.9.12 ('base')",
   "language": "python",
   "name": "python3"
  },
  "language_info": {
   "codemirror_mode": {
    "name": "ipython",
    "version": 3
   },
   "file_extension": ".py",
   "mimetype": "text/x-python",
   "name": "python",
   "nbconvert_exporter": "python",
   "pygments_lexer": "ipython3",
   "version": "3.9.12"
  },
  "orig_nbformat": 4,
  "vscode": {
   "interpreter": {
    "hash": "79b4225ddd10da1de43aa6251f52ea42f133fe28e33e18fb855b9f5adddc74e4"
   }
  }
 },
 "nbformat": 4,
 "nbformat_minor": 2
}
