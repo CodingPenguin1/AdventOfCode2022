{
 "cells": [
  {
   "attachments": {},
   "cell_type": "markdown",
   "metadata": {},
   "source": [
    "# Problem 1"
   ]
  },
  {
   "cell_type": "code",
   "execution_count": 4,
   "metadata": {},
   "outputs": [],
   "source": [
    "def get_winner_score(opponent, me):\n",
    "    scores = {'win': 6, 'lose': 0, 'draw': 3}\n",
    "    if opponent == me:\n",
    "        return scores['draw']\n",
    "    if opponent == 'paper':\n",
    "        return scores['win'] if me == 'scissors' else scores['lose']\n",
    "    elif opponent == 'rock':\n",
    "        return scores['win'] if me == 'paper' else scores['lose']\n",
    "    elif opponent == 'scissors':\n",
    "        return scores['win'] if me == 'rock' else scores['lose']"
   ]
  },
  {
   "cell_type": "code",
   "execution_count": 5,
   "metadata": {},
   "outputs": [
    {
     "name": "stdout",
     "output_type": "stream",
     "text": [
      "14827\n"
     ]
    }
   ],
   "source": [
    "moves = {'A': 'rock', 'B': 'paper', 'C': 'scissors', 'X': 'rock', 'Y': 'paper', 'Z': 'scissors'}\n",
    "choice_scores = {'rock': 1, 'paper': 2, 'scissors': 3}\n",
    "\n",
    "with open('Day02Input.txt', 'r') as f:\n",
    "    lines = f.readlines()\n",
    "    \n",
    "    my_score = 0\n",
    "    for line in lines:\n",
    "        opponent, me = line.strip().split(' ')\n",
    "        opponent, me = moves[opponent], moves[me]\n",
    "        \n",
    "        winner_score = get_winner_score(opponent, me)\n",
    "        choice_score = choice_scores[me]\n",
    "        my_score += winner_score + choice_score\n",
    "print(my_score)"
   ]
  },
  {
   "attachments": {},
   "cell_type": "markdown",
   "metadata": {},
   "source": [
    "# Problem 2"
   ]
  },
  {
   "cell_type": "code",
   "execution_count": 9,
   "metadata": {},
   "outputs": [],
   "source": [
    "def determine_choice(opponent, desired_outcome):\n",
    "    if desired_outcome == 'draw':\n",
    "        return opponent\n",
    "    if opponent == 'rock':\n",
    "        return 'paper' if desired_outcome == 'win' else 'scissors'\n",
    "    elif opponent == 'paper':\n",
    "        return 'scissors' if desired_outcome == 'win' else 'rock'\n",
    "    elif opponent == 'scissors':\n",
    "        return 'rock' if desired_outcome == 'win' else 'paper'"
   ]
  },
  {
   "cell_type": "code",
   "execution_count": 10,
   "metadata": {},
   "outputs": [
    {
     "name": "stdout",
     "output_type": "stream",
     "text": [
      "13889\n"
     ]
    }
   ],
   "source": [
    "outcomes = {'X': 'lose', 'Y': 'draw', 'Z': 'win'}\n",
    "\n",
    "with open('Day02Input.txt', 'r') as f:\n",
    "    lines = f.readlines()\n",
    "    \n",
    "    my_score = 0\n",
    "    for line in lines:\n",
    "        opponent, desired_outcome = line.strip().split(' ')\n",
    "        opponent = moves[opponent]\n",
    "        me = determine_choice(opponent, outcomes[desired_outcome])\n",
    "        \n",
    "        winner_score = get_winner_score(opponent, me)\n",
    "        choice_score = choice_scores[me]\n",
    "        my_score += winner_score + choice_score\n",
    "print(my_score)"
   ]
  },
  {
   "cell_type": "code",
   "execution_count": null,
   "metadata": {},
   "outputs": [],
   "source": []
  }
 ],
 "metadata": {
  "kernelspec": {
   "display_name": "Python 3.9.12 ('base')",
   "language": "python",
   "name": "python3"
  },
  "language_info": {
   "codemirror_mode": {
    "name": "ipython",
    "version": 3
   },
   "file_extension": ".py",
   "mimetype": "text/x-python",
   "name": "python",
   "nbconvert_exporter": "python",
   "pygments_lexer": "ipython3",
   "version": "3.9.12"
  },
  "orig_nbformat": 4,
  "vscode": {
   "interpreter": {
    "hash": "79b4225ddd10da1de43aa6251f52ea42f133fe28e33e18fb855b9f5adddc74e4"
   }
  }
 },
 "nbformat": 4,
 "nbformat_minor": 2
}
