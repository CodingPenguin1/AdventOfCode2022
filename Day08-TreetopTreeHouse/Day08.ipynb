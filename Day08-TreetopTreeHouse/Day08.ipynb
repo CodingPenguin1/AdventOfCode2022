{
 "cells": [
  {
   "cell_type": "code",
   "execution_count": 63,
   "metadata": {},
   "outputs": [],
   "source": [
    "filepath = 'Day08Input.txt'"
   ]
  },
  {
   "attachments": {},
   "cell_type": "markdown",
   "metadata": {},
   "source": [
    "# Problem 1"
   ]
  },
  {
   "cell_type": "code",
   "execution_count": 64,
   "metadata": {},
   "outputs": [],
   "source": [
    "import numpy as np\n",
    "\n",
    "def load_input(filepath):\n",
    "    with open(filepath) as f:\n",
    "        lines = f.readlines()\n",
    "        height = len(lines)\n",
    "        weight = len(lines[0].strip())\n",
    "        \n",
    "        grid = np.zeros((height, weight), dtype=np.uint8)\n",
    "        for row, line in enumerate(lines):\n",
    "            for col, char in enumerate(line.strip()):\n",
    "                grid[row][col] = int(char)\n",
    "        \n",
    "        return grid"
   ]
  },
  {
   "cell_type": "code",
   "execution_count": 65,
   "metadata": {},
   "outputs": [
    {
     "name": "stdout",
     "output_type": "stream",
     "text": [
      "[[3 0 1 ... 1 2 3]\n",
      " [2 1 2 ... 1 1 1]\n",
      " [2 0 1 ... 2 3 1]\n",
      " ...\n",
      " [0 1 2 ... 2 0 3]\n",
      " [1 3 2 ... 1 1 2]\n",
      " [0 1 1 ... 3 0 2]]\n"
     ]
    }
   ],
   "source": [
    "grid = load_input(filepath)\n",
    "print(grid)"
   ]
  },
  {
   "cell_type": "code",
   "execution_count": 66,
   "metadata": {},
   "outputs": [
    {
     "name": "stdout",
     "output_type": "stream",
     "text": [
      "1672\n"
     ]
    }
   ],
   "source": [
    "import itertools\n",
    "\n",
    "visible_mask = np.zeros_like(grid, dtype=bool)\n",
    "\n",
    "for row, col in itertools.product(range(len(grid)), range(len(grid[0]))):\n",
    "    height = grid[row][col]\n",
    "    \n",
    "    # Edges are always visible\n",
    "    if row == 0 or row == len(grid) - 1 or col == 0 or col == len(grid[0]) - 1:\n",
    "        visible_mask[row][col] = True\n",
    "    \n",
    "    elif np.max(grid[:row, col]) < height or np.max(grid[row + 1:, col]) < height or np.max(grid[row, :col]) < height or np.max(grid[row, col + 1:]) < height:\n",
    "        visible_mask[row][col] = True\n",
    "print(np.sum(visible_mask))"
   ]
  },
  {
   "attachments": {},
   "cell_type": "markdown",
   "metadata": {},
   "source": [
    "# Problem 2"
   ]
  },
  {
   "cell_type": "code",
   "execution_count": 67,
   "metadata": {},
   "outputs": [
    {
     "name": "stdout",
     "output_type": "stream",
     "text": [
      "327180\n"
     ]
    }
   ],
   "source": [
    "scores = np.ones(grid.shape, dtype=np.uint32)\n",
    "\n",
    "for row, col in itertools.product(range(len(grid)), range(len(grid[0]))):\n",
    "    height = grid[row][col]\n",
    "    \n",
    "    if row == 0 or row == len(grid) - 1 or col == 0 or col == len(grid[0]) - 1:\n",
    "        scores[row][col] = 0\n",
    "\n",
    "    # Check up\n",
    "    if row > 0:\n",
    "        for score, i in enumerate(range(row - 1, -1, -1), start=1):\n",
    "            if grid[i][col] >= height or i == 0:\n",
    "                scores[row][col] *= score\n",
    "                break\n",
    "\n",
    "    # Check down\n",
    "    if row < len(grid) - 1:\n",
    "        for score, i in enumerate(range(row + 1, len(grid)), start=1):\n",
    "            if grid[i][col] >= height or i == len(grid) - 1:\n",
    "                scores[row][col] *= score\n",
    "                break\n",
    "    \n",
    "    # Check left\n",
    "    if col > 0:\n",
    "        for score, i in enumerate(range(col - 1, -1, -1), start=1):\n",
    "            if grid[row][i] >= height or i == 0:\n",
    "                scores[row][col] *= score\n",
    "                break\n",
    "    \n",
    "    # Check right\n",
    "    if col < len(grid[0]) - 1:\n",
    "        for score, i in enumerate(range(col + 1, len(grid[0])), start=1):\n",
    "            if grid[row][i] >= height or i == len(grid[0]) - 1:\n",
    "                scores[row][col] *= score\n",
    "                break\n",
    "\n",
    "print(np.max(scores))"
   ]
  },
  {
   "cell_type": "code",
   "execution_count": null,
   "metadata": {},
   "outputs": [],
   "source": []
  }
 ],
 "metadata": {
  "kernelspec": {
   "display_name": "base",
   "language": "python",
   "name": "python3"
  },
  "language_info": {
   "codemirror_mode": {
    "name": "ipython",
    "version": 3
   },
   "file_extension": ".py",
   "mimetype": "text/x-python",
   "name": "python",
   "nbconvert_exporter": "python",
   "pygments_lexer": "ipython3",
   "version": "3.9.13"
  },
  "orig_nbformat": 4,
  "vscode": {
   "interpreter": {
    "hash": "f6dbc63024bf0ec2d5d5337c5b9b5ae6ba32b312e796357a44028406a7cd10bd"
   }
  }
 },
 "nbformat": 4,
 "nbformat_minor": 2
}
