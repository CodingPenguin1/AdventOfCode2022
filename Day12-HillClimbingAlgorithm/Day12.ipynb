{
 "cells": [
  {
   "cell_type": "code",
   "execution_count": 1,
   "metadata": {},
   "outputs": [],
   "source": [
    "filepath = 'Day12Input.txt'"
   ]
  },
  {
   "attachments": {},
   "cell_type": "markdown",
   "metadata": {},
   "source": [
    "# Problem 1"
   ]
  },
  {
   "cell_type": "code",
   "execution_count": 2,
   "metadata": {},
   "outputs": [],
   "source": [
    "class Cell:\n",
    "    def __init__(self, r, c, lines):\n",
    "        self.r, self.c = r, c\n",
    "        self.rows = len(lines)\n",
    "        self.cols = len(lines[0])\n",
    "        self.linked = []\n",
    "        \n",
    "        self.height = ord(lines[r][c])\n",
    "        self.start = self.height == ord('S')\n",
    "        self.end = self.height == ord('E')\n",
    "        \n",
    "        if self.start:\n",
    "            self.height = ord('a')\n",
    "        elif self.end:\n",
    "            self.height = ord('z')\n",
    "            \n",
    "    def link(self, grid, condition):\n",
    "        self.linked = []\n",
    "        for r, c, in (-1, 0), (1, 0), (0, 1), (0, -1):\n",
    "            r, c, = self.r + r, self.c + c\n",
    "            if r < 0 or c < 0 or r >= self.rows or c >= self.cols:\n",
    "                continue\n",
    "            other_cell = grid[r][c]\n",
    "            if condition(self.height, other_cell.height):\n",
    "                self.linked.append(other_cell)"
   ]
  },
  {
   "cell_type": "code",
   "execution_count": 3,
   "metadata": {},
   "outputs": [],
   "source": [
    "from itertools import product, chain\n",
    "\n",
    "with open(filepath) as f:\n",
    "    lines = f.read().splitlines()\n",
    "    rows, cols = len(lines), len(lines[0])\n",
    "    grid = [[None] * cols for _ in range(rows)]\n",
    "    \n",
    "    for r, c in product(range(rows), range(cols)):\n",
    "        cell = Cell(r, c, lines)\n",
    "        grid[r][c] = cell\n",
    "        if cell.start:\n",
    "            start = cell\n",
    "        if cell.end:\n",
    "            end = cell"
   ]
  },
  {
   "cell_type": "code",
   "execution_count": 4,
   "metadata": {},
   "outputs": [],
   "source": [
    "def dijkstra(start, end_condition):\n",
    "    queue = [(start, 0)]\n",
    "    visited = set()\n",
    "\n",
    "    while queue:\n",
    "        cell, distance = queue.pop(0)\n",
    "        if cell in visited:\n",
    "            continue\n",
    "        visited.add(cell)\n",
    "        if end_condition(cell):\n",
    "            return distance\n",
    "        queue.extend((linked_cell, distance + 1) for linked_cell in cell.linked)\n",
    "    return None"
   ]
  },
  {
   "cell_type": "code",
   "execution_count": 5,
   "metadata": {},
   "outputs": [
    {
     "name": "stdout",
     "output_type": "stream",
     "text": [
      "534\n"
     ]
    }
   ],
   "source": [
    "for cell in chain(*grid):\n",
    "    cell.link(grid, lambda a, b: a + 1 >= b)\n",
    "print(dijkstra(start, lambda c: c.end))"
   ]
  },
  {
   "attachments": {},
   "cell_type": "markdown",
   "metadata": {},
   "source": [
    "# Problem 2"
   ]
  },
  {
   "cell_type": "code",
   "execution_count": 6,
   "metadata": {},
   "outputs": [
    {
     "name": "stdout",
     "output_type": "stream",
     "text": [
      "525\n"
     ]
    }
   ],
   "source": [
    "for cell in chain(*grid):\n",
    "    cell.link(grid, lambda a, b: a - 1 <= b)\n",
    "print(dijkstra(end, lambda c: c.height == ord('a')))"
   ]
  }
 ],
 "metadata": {
  "kernelspec": {
   "display_name": "base",
   "language": "python",
   "name": "python3"
  },
  "language_info": {
   "codemirror_mode": {
    "name": "ipython",
    "version": 3
   },
   "file_extension": ".py",
   "mimetype": "text/x-python",
   "name": "python",
   "nbconvert_exporter": "python",
   "pygments_lexer": "ipython3",
   "version": "3.9.13"
  },
  "orig_nbformat": 4,
  "vscode": {
   "interpreter": {
    "hash": "f6dbc63024bf0ec2d5d5337c5b9b5ae6ba32b312e796357a44028406a7cd10bd"
   }
  }
 },
 "nbformat": 4,
 "nbformat_minor": 2
}
