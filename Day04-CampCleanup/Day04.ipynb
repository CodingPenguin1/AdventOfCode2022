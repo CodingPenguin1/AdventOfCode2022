{
 "cells": [
  {
   "attachments": {},
   "cell_type": "markdown",
   "metadata": {},
   "source": [
    "# Problem 1"
   ]
  },
  {
   "cell_type": "code",
   "execution_count": 3,
   "metadata": {},
   "outputs": [
    {
     "name": "stdout",
     "output_type": "stream",
     "text": [
      "530\n"
     ]
    }
   ],
   "source": [
    "with open('Day04Input.txt', 'r') as f:\n",
    "    lines = f.readlines()\n",
    "    \n",
    "    count = 0\n",
    "    for line in lines:\n",
    "        pair_1, pair_2 = line.strip().split(',')\n",
    "        \n",
    "        pair_1_min, pair_1_max = (int(i) for i in pair_1.split('-'))\n",
    "        pair_2_min, pair_2_max = (int(i) for i in pair_2.split('-'))\n",
    "        \n",
    "        if pair_1_min <= pair_2_min and pair_1_max >= pair_2_max:\n",
    "            count += 1\n",
    "        elif pair_2_min <= pair_1_min and pair_2_max >= pair_1_max:\n",
    "            count += 1\n",
    "\n",
    "print(count)"
   ]
  },
  {
   "attachments": {},
   "cell_type": "markdown",
   "metadata": {},
   "source": [
    "# Problem 2"
   ]
  },
  {
   "cell_type": "code",
   "execution_count": 6,
   "metadata": {},
   "outputs": [
    {
     "name": "stdout",
     "output_type": "stream",
     "text": [
      "903\n"
     ]
    }
   ],
   "source": [
    "with open('Day04Input.txt', 'r') as f:\n",
    "    lines = f.readlines()\n",
    "    \n",
    "    count = 0\n",
    "    for line in lines:\n",
    "        pair_1, pair_2 = line.strip().split(',')\n",
    "        \n",
    "        pair_1_min, pair_1_max = (int(i) for i in pair_1.split('-'))\n",
    "        pair_2_min, pair_2_max = (int(i) for i in pair_2.split('-'))\n",
    "        \n",
    "        p1_range = range(pair_1_min, pair_1_max + 1)\n",
    "        p2_range = range(pair_2_min, pair_2_max + 1)\n",
    "        for i in range(len(p1_range)):\n",
    "            if p1_range[i] in p2_range:\n",
    "                count += 1\n",
    "                break\n",
    "\n",
    "print(count)"
   ]
  },
  {
   "cell_type": "code",
   "execution_count": null,
   "metadata": {},
   "outputs": [],
   "source": []
  }
 ],
 "metadata": {
  "kernelspec": {
   "display_name": "Python 3.9.12 ('base')",
   "language": "python",
   "name": "python3"
  },
  "language_info": {
   "codemirror_mode": {
    "name": "ipython",
    "version": 3
   },
   "file_extension": ".py",
   "mimetype": "text/x-python",
   "name": "python",
   "nbconvert_exporter": "python",
   "pygments_lexer": "ipython3",
   "version": "3.9.12"
  },
  "orig_nbformat": 4,
  "vscode": {
   "interpreter": {
    "hash": "6e56245d78c9f6c4cc65080015cc6a7d284f3f8c82c7c6cabd0c03064afe6315"
   }
  }
 },
 "nbformat": 4,
 "nbformat_minor": 2
}
