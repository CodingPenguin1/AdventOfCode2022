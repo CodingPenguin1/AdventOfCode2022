{
 "cells": [
  {
   "cell_type": "code",
   "execution_count": 140,
   "metadata": {},
   "outputs": [],
   "source": [
    "filepath = 'Day13Sample.txt'\n",
    "filepath = 'Day13Input.txt'\n",
    "\n",
    "DEBUG = False"
   ]
  },
  {
   "attachments": {},
   "cell_type": "markdown",
   "metadata": {},
   "source": [
    "# Problem 1"
   ]
  },
  {
   "cell_type": "code",
   "execution_count": 141,
   "metadata": {},
   "outputs": [],
   "source": [
    "with open(filepath) as f:\n",
    "    lines = [line.strip() for line in f.readlines()]"
   ]
  },
  {
   "cell_type": "code",
   "execution_count": 142,
   "metadata": {},
   "outputs": [],
   "source": [
    "def log(s):\n",
    "    if DEBUG:\n",
    "        print(s)"
   ]
  },
  {
   "cell_type": "code",
   "execution_count": 143,
   "metadata": {},
   "outputs": [],
   "source": [
    "def in_correct_order(left, right, recursion_depth=1):\n",
    "    for i in range(max(len(left), len(right))):\n",
    "        try:\n",
    "            l = left[i]\n",
    "        except IndexError:\n",
    "            log('  ' * recursion_depth + '- Left side ran out of items, so inputs are in the right order')\n",
    "            return True\n",
    "        \n",
    "        try:\n",
    "            r = right[i]\n",
    "        except IndexError:\n",
    "            log('  ' * recursion_depth + '- Right side ran out of items, so inputs are not in the right order')\n",
    "            return False\n",
    "        \n",
    "        log('  ' * recursion_depth + f'- Compare {l} vs {r}')\n",
    "\n",
    "        # If both values are integers\n",
    "        if type(l) == type(r) == int:\n",
    "            if l < r:\n",
    "                log('  ' * (recursion_depth+1) + '- Left side is smaller, so inputs are in the right order')\n",
    "                return True\n",
    "            elif l > r:\n",
    "                log('  ' * (recursion_depth+1) + '- Right side is smaller, so inputs are not in the right order')\n",
    "                return False\n",
    "        \n",
    "        # If one is a list and the other is an integer\n",
    "        if type(l) == list and type(r) == int:\n",
    "            r = [r]\n",
    "            log('  ' * (recursion_depth+1) + f'- Mixed types; convert right to {r} and retry comparison')\n",
    "        elif type(l) == int and type(r) == list:\n",
    "            l = [l]\n",
    "            log('  ' * (recursion_depth+1) + f'- Mixed types; convert left to {l} and retry comparison')\n",
    "\n",
    "        # If both values are lists\n",
    "        if type(l) == type(r) == list:\n",
    "            correct_order =  in_correct_order(l, r, recursion_depth=recursion_depth+1)\n",
    "            if correct_order is not None:\n",
    "                return correct_order"
   ]
  },
  {
   "cell_type": "code",
   "execution_count": 144,
   "metadata": {},
   "outputs": [
    {
     "name": "stdout",
     "output_type": "stream",
     "text": [
      "5555\n"
     ]
    }
   ],
   "source": [
    "orders = []\n",
    "for i in range(0, len(lines), 3):\n",
    "    l0 = eval(lines[i])\n",
    "    l1 = eval(lines[i + 1])\n",
    "    \n",
    "    log(f'== Pair {(i // 3) + 1} ==')\n",
    "    log(f'- Compare {l0} vs {l1}')\n",
    "    correct_order = in_correct_order(l0, l1)\n",
    "    orders.append(correct_order)\n",
    "    log('')\n",
    "\n",
    "indicies = [i + 1 for i, x in enumerate(orders) if x]\n",
    "print(sum(indicies))"
   ]
  },
  {
   "attachments": {},
   "cell_type": "markdown",
   "metadata": {},
   "source": [
    "# Problem 2"
   ]
  },
  {
   "cell_type": "code",
   "execution_count": 145,
   "metadata": {},
   "outputs": [],
   "source": [
    "def bubble_sort(packets):\n",
    "    for i in range(len(packets)):\n",
    "        for j in range(len(packets) - i - 1):\n",
    "            if not in_correct_order(packets[j], packets[j + 1]):\n",
    "                packets[j], packets[j + 1] = packets[j + 1], packets[j]"
   ]
  },
  {
   "cell_type": "code",
   "execution_count": 146,
   "metadata": {},
   "outputs": [
    {
     "name": "stdout",
     "output_type": "stream",
     "text": [
      "22852\n"
     ]
    }
   ],
   "source": [
    "packets = [eval(line) for line in lines if line != '']\n",
    "packets.extend([[[2]], [[6]]])\n",
    "bubble_sort(packets)\n",
    "\n",
    "for packet in packets:\n",
    "    log(packet)\n",
    "\n",
    "decoder_key = 1\n",
    "for i in range(len(packets)):\n",
    "    if packets[i] in ([[2]], [[6]]):\n",
    "        decoder_key *= i + 1\n",
    "print(decoder_key)"
   ]
  },
  {
   "cell_type": "code",
   "execution_count": null,
   "metadata": {},
   "outputs": [],
   "source": []
  }
 ],
 "metadata": {
  "kernelspec": {
   "display_name": "base",
   "language": "python",
   "name": "python3"
  },
  "language_info": {
   "codemirror_mode": {
    "name": "ipython",
    "version": 3
   },
   "file_extension": ".py",
   "mimetype": "text/x-python",
   "name": "python",
   "nbconvert_exporter": "python",
   "pygments_lexer": "ipython3",
   "version": "3.9.13"
  },
  "orig_nbformat": 4,
  "vscode": {
   "interpreter": {
    "hash": "f6dbc63024bf0ec2d5d5337c5b9b5ae6ba32b312e796357a44028406a7cd10bd"
   }
  }
 },
 "nbformat": 4,
 "nbformat_minor": 2
}
