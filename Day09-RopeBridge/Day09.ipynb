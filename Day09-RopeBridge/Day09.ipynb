{
 "cells": [
  {
   "cell_type": "code",
   "execution_count": 262,
   "metadata": {},
   "outputs": [],
   "source": [
    "filepath = 'Day09Input.txt'"
   ]
  },
  {
   "attachments": {},
   "cell_type": "markdown",
   "metadata": {},
   "source": [
    "# Problem 1"
   ]
  },
  {
   "cell_type": "code",
   "execution_count": 263,
   "metadata": {},
   "outputs": [],
   "source": [
    "with open(filepath) as f:\n",
    "    lines = f.readlines()\n",
    "    for i in range(len(lines)):\n",
    "        lines[i] = lines[i].strip()"
   ]
  },
  {
   "cell_type": "code",
   "execution_count": 264,
   "metadata": {},
   "outputs": [],
   "source": [
    "def get_head_direction(head, tail):\n",
    "    head_dir = [head[0] - tail[0], head[1] - tail[1]]\n",
    "    head_dir[0] = 0 if head_dir[0] == 0 else int(head_dir[0] / abs(head_dir[0]))\n",
    "    head_dir[1] = 0 if head_dir[1] == 0 else int(head_dir[1] / abs(head_dir[1]))\n",
    "    return head_dir"
   ]
  },
  {
   "cell_type": "code",
   "execution_count": 265,
   "metadata": {},
   "outputs": [
    {
     "name": "stdout",
     "output_type": "stream",
     "text": [
      "6098\n"
     ]
    }
   ],
   "source": [
    "import numpy as np\n",
    "\n",
    "\n",
    "head = np.array([0, 0])  # x, y\n",
    "tail = np.array([0, 0])\n",
    "head_dir = np.array([0, 0])\n",
    "\n",
    "tail_history = [list(tail)]\n",
    "\n",
    "for line in lines:\n",
    "    dir_, dist = line[0], int(line[1:])\n",
    "\n",
    "    for _ in range(dist):\n",
    "        # Move head\n",
    "        if dir_ == 'R':\n",
    "            head[0] += 1\n",
    "        elif dir_ == 'L':\n",
    "            head[0] -= 1\n",
    "        elif dir_ == 'U':\n",
    "            head[1] += 1\n",
    "        elif dir_ == 'D':\n",
    "            head[1] -= 1\n",
    "\n",
    "        # Update head direction relative to tail\n",
    "        head_dir = get_head_direction(head, tail)\n",
    "        \n",
    "        # If head is 2 or more steps away from tail in either axis, move tail\n",
    "        if max(abs(head[0] - tail[0]), abs(head[1] - tail[1])) >= 2:\n",
    "            tail += head_dir\n",
    "            tail_history.append(list(tail))\n",
    "        \n",
    "print(np.unique(tail_history, axis=0).shape[0])"
   ]
  },
  {
   "attachments": {},
   "cell_type": "markdown",
   "metadata": {},
   "source": [
    "# Problem 2"
   ]
  },
  {
   "cell_type": "code",
   "execution_count": 266,
   "metadata": {},
   "outputs": [],
   "source": [
    "def print_grid(knots, knot_histories=None, gridsize=(30, 30)):\n",
    "    grid = np.empty(gridsize, dtype=str)\n",
    "    grid[:] = '.'\n",
    "    \n",
    "    for i in range(len(knots) - 1, -1, -1):\n",
    "        knot = knots[i]\n",
    "        char = 'H' if i == 0 else str(i)\n",
    "        grid[gridsize[0] // 2 - 1 - knot[1]][gridsize[1] // 2 + knot[0]] = char\n",
    "    \n",
    "    if knot_histories is not None:\n",
    "        hist = knot_histories[-1]\n",
    "        for point in hist:\n",
    "            grid[gridsize[0] // 2 - 1 - point[1]][gridsize[1] // 2 + point[0]] = '#'\n",
    "    \n",
    "    s = ''\n",
    "    for row in grid:\n",
    "        s += ' '.join(row) + '\\n'\n",
    "    return s"
   ]
  },
  {
   "cell_type": "code",
   "execution_count": 267,
   "metadata": {},
   "outputs": [
    {
     "name": "stdout",
     "output_type": "stream",
     "text": [
      "2597\n"
     ]
    }
   ],
   "source": [
    "from IPython.display import clear_output\n",
    "from time import sleep\n",
    "\n",
    "\n",
    "knots = np.array([np.array([0, 0])] * 10)\n",
    "knot_dirs = np.array([np.array([0, 0])] * 10)\n",
    "knot_histories = [[list(knots[i])] for i in range(len(knots))]\n",
    "\n",
    "for line in lines:\n",
    "    dir_, dist = line[0], int(line[1:])\n",
    "\n",
    "    for _ in range(dist):\n",
    "        # Move head\n",
    "        if dir_ == 'R':\n",
    "            knots[0][0] += 1\n",
    "        elif dir_ == 'L':\n",
    "            knots[0][0] -= 1\n",
    "        elif dir_ == 'U':\n",
    "            knots[0][1] += 1\n",
    "        elif dir_ == 'D':\n",
    "            knots[0][1] -= 1\n",
    "        knot_histories[0].append(list(knots[0]))\n",
    "\n",
    "        for knot_i in range(1, len(knots)):\n",
    "            prev_knot = knots[knot_i - 1]\n",
    "            cur_knot = knots[knot_i]\n",
    "            \n",
    "            # Update previous knot direction relative to current knot\n",
    "            knot_dirs[knot_i] = get_head_direction(prev_knot, cur_knot)\n",
    "            \n",
    "            # If head is 2 or more steps away from tail in either axis, move tail\n",
    "            if max(abs(prev_knot[0] - cur_knot[0]), abs(prev_knot[1] - cur_knot[1])) >= 2:\n",
    "                # print(f'Moving knot {knot_i} from {prev_knot} towards {cur_knot} in direction {knot_dirs[knot_i]}')\n",
    "                knots[knot_i] += knot_dirs[knot_i]\n",
    "                knot_histories[knot_i].append(list(cur_knot))\n",
    "        \n",
    "print(np.unique(knot_histories[-1], axis=0).shape[0])"
   ]
  },
  {
   "cell_type": "code",
   "execution_count": null,
   "metadata": {},
   "outputs": [],
   "source": []
  }
 ],
 "metadata": {
  "kernelspec": {
   "display_name": "base",
   "language": "python",
   "name": "python3"
  },
  "language_info": {
   "codemirror_mode": {
    "name": "ipython",
    "version": 3
   },
   "file_extension": ".py",
   "mimetype": "text/x-python",
   "name": "python",
   "nbconvert_exporter": "python",
   "pygments_lexer": "ipython3",
   "version": "3.9.13 (main, Aug 25 2022, 23:51:50) [MSC v.1916 64 bit (AMD64)]"
  },
  "orig_nbformat": 4,
  "vscode": {
   "interpreter": {
    "hash": "f6dbc63024bf0ec2d5d5337c5b9b5ae6ba32b312e796357a44028406a7cd10bd"
   }
  }
 },
 "nbformat": 4,
 "nbformat_minor": 2
}
