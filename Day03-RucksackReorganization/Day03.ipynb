{
 "cells": [
  {
   "attachments": {},
   "cell_type": "markdown",
   "metadata": {},
   "source": [
    "# Problem 1"
   ]
  },
  {
   "cell_type": "code",
   "execution_count": 16,
   "metadata": {},
   "outputs": [
    {
     "data": {
      "text/plain": [
       "52"
      ]
     },
     "execution_count": 16,
     "metadata": {},
     "output_type": "execute_result"
    }
   ],
   "source": [
    "def priority(char):\n",
    "    return ord(char) - 96 if char.islower() else ord(char) - 38"
   ]
  },
  {
   "cell_type": "code",
   "execution_count": 22,
   "metadata": {},
   "outputs": [
    {
     "name": "stdout",
     "output_type": "stream",
     "text": [
      "7716\n"
     ]
    }
   ],
   "source": [
    "with open('Day03Input.txt', 'r') as f:\n",
    "    lines = f.readlines()\n",
    "    \n",
    "    score = 0\n",
    "    for line in lines:\n",
    "        line = line.strip()\n",
    "        compartments = line[:len(line)//2], line[len(line)//2:]\n",
    "        \n",
    "        for char in compartments[0]:\n",
    "            if char in compartments[1]:\n",
    "                score += priority(char)\n",
    "                break\n",
    "        \n",
    "print(score)"
   ]
  },
  {
   "attachments": {},
   "cell_type": "markdown",
   "metadata": {},
   "source": [
    "# Problem 2"
   ]
  },
  {
   "cell_type": "code",
   "execution_count": 32,
   "metadata": {},
   "outputs": [
    {
     "name": "stdout",
     "output_type": "stream",
     "text": [
      "2973\n"
     ]
    }
   ],
   "source": [
    "with open ('Day03Input.txt', 'r') as f:\n",
    "    lines = f.readlines()\n",
    "    \n",
    "    score = 0\n",
    "    for i in range(0, len(lines), 3):\n",
    "        common_letter = list(set(lines[i].strip()) & set(lines[i+1].strip()) & set(lines[i+2].strip()))[0]\n",
    "        score += priority(common_letter)\n",
    "\n",
    "print(score)"
   ]
  },
  {
   "cell_type": "code",
   "execution_count": null,
   "metadata": {},
   "outputs": [],
   "source": []
  }
 ],
 "metadata": {
  "kernelspec": {
   "display_name": "Python 3.9.12 ('base')",
   "language": "python",
   "name": "python3"
  },
  "language_info": {
   "codemirror_mode": {
    "name": "ipython",
    "version": 3
   },
   "file_extension": ".py",
   "mimetype": "text/x-python",
   "name": "python",
   "nbconvert_exporter": "python",
   "pygments_lexer": "ipython3",
   "version": "3.9.12"
  },
  "orig_nbformat": 4,
  "vscode": {
   "interpreter": {
    "hash": "6e56245d78c9f6c4cc65080015cc6a7d284f3f8c82c7c6cabd0c03064afe6315"
   }
  }
 },
 "nbformat": 4,
 "nbformat_minor": 2
}
