{
 "cells": [
  {
   "cell_type": "code",
   "execution_count": 17,
   "metadata": {},
   "outputs": [],
   "source": [
    "filepath = 'Day14Input.txt'"
   ]
  },
  {
   "attachments": {},
   "cell_type": "markdown",
   "metadata": {},
   "source": [
    "# Problem 1"
   ]
  },
  {
   "cell_type": "code",
   "execution_count": 18,
   "metadata": {},
   "outputs": [],
   "source": [
    "def draw_cave(arr, row_range, col_range):\n",
    "    for r in range(row_range[0], row_range[1]):\n",
    "        for c in range(col_range[0], col_range[1]):\n",
    "            if r == 0 and c == 500:\n",
    "                print('+ ', end='')\n",
    "            elif arr[r, c] == 0:\n",
    "                print('. ', end='')\n",
    "            elif arr[r, c] == 1:\n",
    "                print('# ', end='')\n",
    "            else:\n",
    "                print('o ', end='')\n",
    "        print('', flush=True)"
   ]
  },
  {
   "cell_type": "code",
   "execution_count": 19,
   "metadata": {},
   "outputs": [
    {
     "name": "stdout",
     "output_type": "stream",
     "text": [
      ". . . . . . + . . . \n",
      ". . . . . . . . . . \n",
      ". . . . . . . . . . \n",
      ". . . . . . . . . . \n",
      ". . . . . . . . . . \n",
      ". . . . . . . . . . \n",
      ". . . . . . . . . . \n",
      ". . . . . . . . . . \n",
      ". . . . . . . . . . \n",
      ". . . . . . . . . . \n"
     ]
    }
   ],
   "source": [
    "import numpy as np\n",
    "\n",
    "arr = np.zeros((1000, 1000), dtype=int)\n",
    "with open(filepath) as f:\n",
    "    lines = [l.strip() for l in f.readlines()]\n",
    "\n",
    "    for line in lines:\n",
    "        coordinates = []\n",
    "        for c in line.split(' -> '):\n",
    "            c_x, c_y = c.split(',')\n",
    "            coordinates.append((int(c_y), int(c_x)))\n",
    "\n",
    "        r, c = coordinates[0]\n",
    "        for i in range(len(coordinates) - 1):\n",
    "            r_next, c_next = coordinates[i + 1]\n",
    "            row_left, row_right = min(r, r_next), max(r, r_next) + 1\n",
    "            col_up, col_down = min(c, c_next), max(c, c_next) + 1\n",
    "            arr[row_left:row_right, col_up:col_down] = 1\n",
    "            r, c = r_next, c_next\n",
    "\n",
    "draw_cave(arr, (0, 10), (494, 504))"
   ]
  },
  {
   "cell_type": "code",
   "execution_count": 20,
   "metadata": {},
   "outputs": [
    {
     "name": "stdout",
     "output_type": "stream",
     "text": [
      "665\n"
     ]
    }
   ],
   "source": [
    "from IPython.display import clear_output\n",
    "from time import sleep\n",
    "\n",
    "sand_source = (0, 500)\n",
    "sand_count = 0\n",
    "\n",
    "stop = False\n",
    "while not stop:\n",
    "    cur_sand = sand_source\n",
    "    sand_count += 1\n",
    "    \n",
    "    # Move sand\n",
    "    while True:\n",
    "        # If all three spaces below are sand, break and spawn new sand\n",
    "        try:\n",
    "            if np.sum(arr[cur_sand[0] + 1, cur_sand[1]-1:cur_sand[1]+2] > 0) == 3:\n",
    "                arr[cur_sand] = 2\n",
    "                break\n",
    "        except IndexError:\n",
    "            stop = True\n",
    "            sand_count -= 1\n",
    "            break\n",
    "        \n",
    "        # If space below is free, move sand down\n",
    "        if arr[cur_sand[0] + 1, cur_sand[1]] == 0:\n",
    "            cur_sand = (cur_sand[0] + 1, cur_sand[1])\n",
    "        \n",
    "        # If space below is not free, move sand left or right\n",
    "        elif arr[cur_sand[0] + 1, cur_sand[1] - 1] == 0:\n",
    "            cur_sand = (cur_sand[0], cur_sand[1] - 1)\n",
    "        elif arr[cur_sand[0] + 1, cur_sand[1] + 1] == 0:\n",
    "            cur_sand = (cur_sand[0], cur_sand[1] + 1)\n",
    "    \n",
    "    # draw_cave(arr, (0, 10), (494, 504))\n",
    "    # input()\n",
    "    # clear_output(wait=True)\n",
    "    # sleep(0.1)\n",
    "\n",
    "print(sand_count)"
   ]
  },
  {
   "attachments": {},
   "cell_type": "markdown",
   "metadata": {},
   "source": [
    "# Problem 2"
   ]
  },
  {
   "cell_type": "code",
   "execution_count": 21,
   "metadata": {},
   "outputs": [],
   "source": [
    "import numpy as np\n",
    "\n",
    "arr = np.zeros((1000, 1000), dtype=int)\n",
    "with open(filepath) as f:\n",
    "    lines = [l.strip() for l in f.readlines()]\n",
    "\n",
    "    for line in lines:\n",
    "        coordinates = []\n",
    "        for c in line.split(' -> '):\n",
    "            c_x, c_y = c.split(',')\n",
    "            coordinates.append((int(c_y), int(c_x)))\n",
    "\n",
    "        r, c = coordinates[0]\n",
    "        for i in range(len(coordinates) - 1):\n",
    "            r_next, c_next = coordinates[i + 1]\n",
    "            row_left, row_right = min(r, r_next), max(r, r_next) + 1\n",
    "            col_up, col_down = min(c, c_next), max(c, c_next) + 1\n",
    "            arr[row_left:row_right, col_up:col_down] = 1\n",
    "            r, c = r_next, c_next"
   ]
  },
  {
   "cell_type": "code",
   "execution_count": 22,
   "metadata": {},
   "outputs": [],
   "source": [
    "floor_idx = 0\n",
    "for r, row in enumerate(arr):\n",
    "    if np.sum(row) > 0:\n",
    "        floor_idx = r + 2\n",
    "\n",
    "arr = arr[:floor_idx + 1, :]\n",
    "arr[floor_idx] = 1"
   ]
  },
  {
   "cell_type": "code",
   "execution_count": 23,
   "metadata": {},
   "outputs": [
    {
     "name": "stdout",
     "output_type": "stream",
     "text": [
      "25434\n"
     ]
    }
   ],
   "source": [
    "from IPython.display import clear_output\n",
    "from time import sleep\n",
    "\n",
    "sand_source = (0, 500)\n",
    "sand_count = 0\n",
    "\n",
    "stop = False\n",
    "while not stop:\n",
    "    cur_sand = sand_source\n",
    "    sand_count += 1\n",
    "    \n",
    "    # Move sand\n",
    "    while True:\n",
    "        # If all three spaces below are sand, break and spawn new sand\n",
    "        try:\n",
    "            if np.sum(arr[cur_sand[0] + 1, cur_sand[1]-1:cur_sand[1]+2] > 0) == 3:\n",
    "                if cur_sand == sand_source:\n",
    "                    stop = True\n",
    "                arr[cur_sand] = 2\n",
    "                break\n",
    "        except IndexError:\n",
    "            stop = True\n",
    "            sand_count -= 1\n",
    "            break\n",
    "        \n",
    "        # If space below is free, move sand down\n",
    "        if arr[cur_sand[0] + 1, cur_sand[1]] == 0:\n",
    "            cur_sand = (cur_sand[0] + 1, cur_sand[1])\n",
    "        \n",
    "        # If space below is not free, move sand left or right\n",
    "        elif arr[cur_sand[0] + 1, cur_sand[1] - 1] == 0:\n",
    "            cur_sand = (cur_sand[0], cur_sand[1] - 1)\n",
    "        elif arr[cur_sand[0] + 1, cur_sand[1] + 1] == 0:\n",
    "            cur_sand = (cur_sand[0], cur_sand[1] + 1)\n",
    "    \n",
    "print(sand_count)"
   ]
  },
  {
   "cell_type": "code",
   "execution_count": null,
   "metadata": {},
   "outputs": [],
   "source": []
  }
 ],
 "metadata": {
  "kernelspec": {
   "display_name": "base",
   "language": "python",
   "name": "python3"
  },
  "language_info": {
   "codemirror_mode": {
    "name": "ipython",
    "version": 3
   },
   "file_extension": ".py",
   "mimetype": "text/x-python",
   "name": "python",
   "nbconvert_exporter": "python",
   "pygments_lexer": "ipython3",
   "version": "3.9.13 (main, Aug 25 2022, 23:51:50) [MSC v.1916 64 bit (AMD64)]"
  },
  "orig_nbformat": 4,
  "vscode": {
   "interpreter": {
    "hash": "f6dbc63024bf0ec2d5d5337c5b9b5ae6ba32b312e796357a44028406a7cd10bd"
   }
  }
 },
 "nbformat": 4,
 "nbformat_minor": 2
}
