{
 "cells": [
  {
   "attachments": {},
   "cell_type": "markdown",
   "metadata": {},
   "source": [
    "# Problem 1"
   ]
  },
  {
   "cell_type": "code",
   "execution_count": 18,
   "metadata": {},
   "outputs": [],
   "source": [
    "def parse_file(filepath='Day05Input.txt'):\n",
    "    stacks = []\n",
    "    moves = []\n",
    "    \n",
    "    with open(filepath, 'r') as f:\n",
    "        lines = f.readlines()\n",
    "\n",
    "    # Stack setup\n",
    "    for i in range(len(lines)):\n",
    "        stack_count_line_idx = 0\n",
    "        if lines[i] == '\\n':\n",
    "            stack_count_line_idx = i - 1\n",
    "            break\n",
    "\n",
    "    stack_count = int(lines[stack_count_line_idx].strip().split(' ')[-1])\n",
    "    stacks.extend([] for _ in range(stack_count))\n",
    "\n",
    "    # Initial stack states\n",
    "    for stack_idx in range(stack_count):\n",
    "        in_line_idx = 1 + stack_idx * 4\n",
    "        for line_idx in range(stack_count_line_idx - 1, -1, -1):\n",
    "            try:\n",
    "                char = lines[line_idx][in_line_idx]\n",
    "                if char.isalpha():\n",
    "                    stacks[stack_idx].append(char)\n",
    "            except IndexError:\n",
    "                break\n",
    "\n",
    "    # Create move list\n",
    "    for line in lines[stack_count_line_idx + 2:]:\n",
    "        line = eval('[' + line.strip().replace('move ', '').replace(' from ', ',').replace(' to ', ',') + ']')\n",
    "        moves.append((int(line[0]), int(line[1]) - 1, int(line[2]) - 1))\n",
    "    \n",
    "    return stacks, moves"
   ]
  },
  {
   "cell_type": "code",
   "execution_count": 19,
   "metadata": {},
   "outputs": [
    {
     "name": "stdout",
     "output_type": "stream",
     "text": [
      "CFFHVVHNC"
     ]
    }
   ],
   "source": [
    "import contextlib\n",
    "\n",
    "stacks, moves = parse_file()\n",
    "\n",
    "for move in moves:\n",
    "    for _ in range(move[0]):\n",
    "        stacks[move[2]].append(stacks[move[1]].pop())\n",
    "\n",
    "for stack in stacks:\n",
    "    with contextlib.suppress(IndexError):\n",
    "        print(stack.pop(), end='')"
   ]
  },
  {
   "attachments": {},
   "cell_type": "markdown",
   "metadata": {},
   "source": [
    "# Problem 2"
   ]
  },
  {
   "cell_type": "code",
   "execution_count": 20,
   "metadata": {},
   "outputs": [
    {
     "name": "stdout",
     "output_type": "stream",
     "text": [
      "FSZWBPTBG"
     ]
    }
   ],
   "source": [
    "import contextlib\n",
    "\n",
    "stacks, moves = parse_file()\n",
    "\n",
    "for move in moves:\n",
    "    crane_stack = [stacks[move[1]].pop() for _ in range(move[0])]\n",
    "    for _ in range(move[0]):\n",
    "        stacks[move[2]].append(crane_stack.pop())\n",
    "\n",
    "for stack in stacks:\n",
    "    with contextlib.suppress(IndexError):\n",
    "        print(stack.pop(), end='')"
   ]
  },
  {
   "cell_type": "code",
   "execution_count": null,
   "metadata": {},
   "outputs": [],
   "source": []
  }
 ],
 "metadata": {
  "kernelspec": {
   "display_name": "Python 3.9.12 ('base')",
   "language": "python",
   "name": "python3"
  },
  "language_info": {
   "codemirror_mode": {
    "name": "ipython",
    "version": 3
   },
   "file_extension": ".py",
   "mimetype": "text/x-python",
   "name": "python",
   "nbconvert_exporter": "python",
   "pygments_lexer": "ipython3",
   "version": "3.9.12"
  },
  "orig_nbformat": 4,
  "vscode": {
   "interpreter": {
    "hash": "6e56245d78c9f6c4cc65080015cc6a7d284f3f8c82c7c6cabd0c03064afe6315"
   }
  }
 },
 "nbformat": 4,
 "nbformat_minor": 2
}
