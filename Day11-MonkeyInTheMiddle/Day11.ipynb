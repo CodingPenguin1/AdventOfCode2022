{
 "cells": [
  {
   "cell_type": "code",
   "execution_count": 338,
   "metadata": {},
   "outputs": [],
   "source": [
    "filepath = 'Day11Input.txt'"
   ]
  },
  {
   "attachments": {},
   "cell_type": "markdown",
   "metadata": {},
   "source": [
    "# Problem 1"
   ]
  },
  {
   "cell_type": "code",
   "execution_count": 339,
   "metadata": {},
   "outputs": [],
   "source": [
    "class Monkey:\n",
    "    def __init__(self, items, operation, operation_value, test_divisor, true_test_target, false_test_target):\n",
    "        self.items = items\n",
    "        self.operation = operation\n",
    "        try:\n",
    "            self.operation_value = int(operation_value)\n",
    "        except ValueError:\n",
    "            self.operation_value = operation_value\n",
    "        self.test_divisor = test_divisor\n",
    "        self.true_test_target = true_test_target\n",
    "        self.false_test_target = false_test_target\n",
    "        \n",
    "        self.inspection_count = 0\n",
    "    \n",
    "    def process(self, monkeys, relief=True, debug=False):\n",
    "        self.inspection_count += len(self.items)\n",
    "        \n",
    "        while len(self.items) > 0:\n",
    "            item = self.items.pop(0)\n",
    "            \n",
    "            # Inspect\n",
    "            if debug:\n",
    "                print(f'  Monkey inspects an item with a worry level of {item}')\n",
    "            op_val = self.operation_value if type(self.operation_value) == int else int(item)\n",
    "            if self.operation == '*':\n",
    "                if debug:\n",
    "                    print(f'    Worry level is multiplied by {op_val} to {item * op_val}')\n",
    "                item = item * op_val\n",
    "            elif self.operation == '+':\n",
    "                if debug:\n",
    "                    print(f'    Worry level increases by {op_val} to {item + op_val}')\n",
    "                item = item + op_val\n",
    "            \n",
    "            # Bored, relief\n",
    "            if relief:\n",
    "                if debug:\n",
    "                    print(f'    Monkey gets bored with item. Worry level is divided by 3 to {item // 3}')\n",
    "                item = item // 3\n",
    "            \n",
    "            # Test\n",
    "            if item % self.test_divisor == 0:\n",
    "                if debug:\n",
    "                    print(f'    Current worry level {item} is divisible by {self.test_divisor}\\n    Item with worry level {item} is thrown to monkey {self.true_test_target}', flush=True)\n",
    "                monkeys[self.true_test_target].items.append(item)\n",
    "            else:\n",
    "                if debug:\n",
    "                    print(f'    Current worry level {item} is not divisible by {self.test_divisor}\\n    Item with worry level {item} is thrown to monkey {self.false_test_target}', flush=True)\n",
    "                monkeys[self.false_test_target].items.append(item)\n",
    "            \n",
    "            if debug:\n",
    "                input()\n",
    "        \n",
    "    \n",
    "    def __str__(self):\n",
    "        s = f'  Items: {self.items}\\n'\n",
    "        s += f'  Operation: new = old {self.operation} {self.operation_value}\\n'\n",
    "        s += f'  Test: divisible by {self.test_divisor}\\n'\n",
    "        s += f'    If true: throw to monkey {self.true_test_target}\\n'\n",
    "        s += f'    If false: throw to monkey {self.false_test_target}\\n'\n",
    "        return s"
   ]
  },
  {
   "cell_type": "code",
   "execution_count": 340,
   "metadata": {},
   "outputs": [],
   "source": [
    "monkeys = []\n",
    "with open(filepath) as f:\n",
    "    lines = f.readlines()\n",
    "    \n",
    "    for i in range(0, len(lines), 7):\n",
    "        items = [int(x) for x in lines[i + 1].split(': ')[1].split(', ')]\n",
    "        operation = '*' if '*' in lines[i + 2] else '+'\n",
    "        operation_value = lines[i + 2].split(operation)[1].strip()\n",
    "        test_divisor = int(lines[i + 3].split(' ')[-1])\n",
    "        true_test_target = int(lines[i + 4].split(' ')[-1])\n",
    "        false_test_target = int(lines[i + 5].split(' ')[-1])\n",
    "        \n",
    "        monkeys.append(\n",
    "            Monkey(\n",
    "                items,\n",
    "                operation,\n",
    "                operation_value,\n",
    "                test_divisor,\n",
    "                true_test_target,\n",
    "                false_test_target\n",
    "            )\n",
    "        )"
   ]
  },
  {
   "cell_type": "code",
   "execution_count": 341,
   "metadata": {},
   "outputs": [
    {
     "name": "stdout",
     "output_type": "stream",
     "text": [
      "Monkey 0 inspected 313 items\n",
      "Monkey 1 inspected 338 items\n",
      "Monkey 2 inspected 319 items\n",
      "Monkey 3 inspected 314 items\n",
      "Monkey 4 inspected 30 items\n",
      "Monkey 5 inspected 19 items\n",
      "Monkey 6 inspected 38 items\n",
      "Monkey 7 inspected 101 items\n"
     ]
    }
   ],
   "source": [
    "for _ in range(20):\n",
    "    for m, monkey in enumerate(monkeys):\n",
    "        # print(f'Monkey {m}:')\n",
    "        monkey.process(monkeys)\n",
    "        \n",
    "for m, monkey in enumerate(monkeys):\n",
    "    print(f'Monkey {m} inspected {monkey.inspection_count} items')"
   ]
  },
  {
   "cell_type": "code",
   "execution_count": 342,
   "metadata": {},
   "outputs": [
    {
     "name": "stdout",
     "output_type": "stream",
     "text": [
      "107822\n"
     ]
    }
   ],
   "source": [
    "monkey_inspections = [monkey.inspection_count for monkey in monkeys]\n",
    "monkey_inspections.sort()\n",
    "print(monkey_inspections[-1] * monkey_inspections[-2])"
   ]
  },
  {
   "attachments": {},
   "cell_type": "markdown",
   "metadata": {},
   "source": [
    "# Problem 2"
   ]
  },
  {
   "cell_type": "code",
   "execution_count": 343,
   "metadata": {},
   "outputs": [],
   "source": [
    "import numpy as np\n",
    "\n",
    "# Get dimensions of items array\n",
    "n_items, n_monkeys = 0, 0\n",
    "for i in range(0, len(lines), 7):\n",
    "    n_items += len([int(x) for x in lines[i + 1].split(': ')[1].split(', ')])\n",
    "    n_monkeys += 1\n",
    "\n",
    "# Create and fill items array with initial item values\n",
    "items = np.zeros((n_monkeys, n_items), dtype=np.uint64)\n",
    "monkey_index, item_index = 0, 0\n",
    "for i in range(0, len(lines), 7):\n",
    "    monkey_items = [int(x) for x in lines[i + 1].split(': ')[1].split(', ')]\n",
    "    for item in monkey_items:\n",
    "        items[monkey_index][item_index] = item\n",
    "        item_index += 1\n",
    "    monkey_index += 1"
   ]
  },
  {
   "cell_type": "code",
   "execution_count": 344,
   "metadata": {},
   "outputs": [
    {
     "name": "stdout",
     "output_type": "stream",
     "text": [
      "[('*', '11'), ('+', '1'), ('*', '7'), ('+', '3'), ('+', '6'), ('+', '5'), ('*', 'old'), ('+', '7')]\n"
     ]
    }
   ],
   "source": [
    "# Create lists for operatations, divisors, targets, and inspection counts\n",
    "operations = []\n",
    "divisors = []\n",
    "targets = []\n",
    "inspection_counts = [0] * n_monkeys\n",
    "\n",
    "for i in range(0, len(lines), 7):\n",
    "    operation = '*' if '*' in lines[i + 2] else '+'\n",
    "    operation_value = lines[i + 2].split(operation)[1].strip()\n",
    "    test_divisor = int(lines[i + 3].split(' ')[-1])\n",
    "    true_test_target = int(lines[i + 4].split(' ')[-1])\n",
    "    false_test_target = int(lines[i + 5].split(' ')[-1])\n",
    "    \n",
    "    operations.append((operation, operation_value))\n",
    "    divisors.append(test_divisor)\n",
    "    targets.append((true_test_target, false_test_target))"
   ]
  },
  {
   "cell_type": "code",
   "execution_count": 345,
   "metadata": {},
   "outputs": [],
   "source": [
    "from math import lcm\n",
    "\n",
    "scaler = lcm(*divisors)"
   ]
  },
  {
   "cell_type": "code",
   "execution_count": 346,
   "metadata": {},
   "outputs": [
    {
     "name": "stdout",
     "output_type": "stream",
     "text": [
      "Monkey 0 inspected 25581 items\n",
      "Monkey 1 inspected 33619 items\n",
      "Monkey 2 inspected 12275 items\n",
      "Monkey 3 inspected 12262 items\n",
      "Monkey 4 inspected 161071 items\n",
      "Monkey 5 inspected 147894 items\n",
      "Monkey 6 inspected 161083 items\n",
      "Monkey 7 inspected 169274 items\n",
      "[25581, 33619, 12275, 12262, 161071, 147894, 161083, 169274]\n"
     ]
    }
   ],
   "source": [
    "for round_ in range(10000):\n",
    "    for monkey_index, monkey in enumerate(items):\n",
    "        for item_index, item in enumerate(monkey):\n",
    "            if item != 0:\n",
    "                # Inspect\n",
    "                inspection_counts[monkey_index] += 1\n",
    "                try:\n",
    "                    op_val = int(operations[monkey_index][1])\n",
    "                except ValueError:\n",
    "                    op_val = item\n",
    "                    \n",
    "                if operations[monkey_index][0] == '*':\n",
    "                    item = int(item * op_val)\n",
    "                elif operations[monkey_index][0] == '+':\n",
    "                    item = int(item + op_val)\n",
    "                \n",
    "                # This keeps everything from getting too big\n",
    "                item = int(item % scaler)\n",
    "                \n",
    "                # Test\n",
    "                if item % divisors[monkey_index] == 0:\n",
    "                    items[targets[monkey_index][0]][item_index] = item\n",
    "                else:\n",
    "                    items[targets[monkey_index][1]][item_index] = item\n",
    "                items[monkey_index][item_index] = 0\n",
    "        \n",
    "for i in range(len(inspection_counts)):\n",
    "    print(f'Monkey {i} inspected {inspection_counts[i]} items')\n",
    "print(inspection_counts)"
   ]
  },
  {
   "cell_type": "code",
   "execution_count": 347,
   "metadata": {},
   "outputs": [
    {
     "name": "stdout",
     "output_type": "stream",
     "text": [
      "27267163742\n"
     ]
    }
   ],
   "source": [
    "inspection_counts.sort()\n",
    "print(inspection_counts[-1] * inspection_counts[-2])"
   ]
  },
  {
   "cell_type": "code",
   "execution_count": null,
   "metadata": {},
   "outputs": [],
   "source": []
  }
 ],
 "metadata": {
  "kernelspec": {
   "display_name": "base",
   "language": "python",
   "name": "python3"
  },
  "language_info": {
   "codemirror_mode": {
    "name": "ipython",
    "version": 3
   },
   "file_extension": ".py",
   "mimetype": "text/x-python",
   "name": "python",
   "nbconvert_exporter": "python",
   "pygments_lexer": "ipython3",
   "version": "3.9.13"
  },
  "orig_nbformat": 4,
  "vscode": {
   "interpreter": {
    "hash": "f6dbc63024bf0ec2d5d5337c5b9b5ae6ba32b312e796357a44028406a7cd10bd"
   }
  }
 },
 "nbformat": 4,
 "nbformat_minor": 2
}
