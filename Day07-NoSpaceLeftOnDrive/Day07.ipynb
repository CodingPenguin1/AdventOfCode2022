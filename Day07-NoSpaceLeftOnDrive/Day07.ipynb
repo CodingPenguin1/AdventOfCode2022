{
 "cells": [
  {
   "cell_type": "code",
   "execution_count": 139,
   "metadata": {},
   "outputs": [],
   "source": [
    "input_file = 'Day07Input.txt'"
   ]
  },
  {
   "attachments": {},
   "cell_type": "markdown",
   "metadata": {},
   "source": [
    "# Problem 1"
   ]
  },
  {
   "attachments": {},
   "cell_type": "markdown",
   "metadata": {},
   "source": [
    "## Helper Classes & Functions"
   ]
  },
  {
   "cell_type": "code",
   "execution_count": 140,
   "metadata": {},
   "outputs": [],
   "source": [
    "class File:\n",
    "    def __init__(self, name, size):\n",
    "        self.name = name\n",
    "        self.size = int(size)"
   ]
  },
  {
   "cell_type": "code",
   "execution_count": 141,
   "metadata": {},
   "outputs": [],
   "source": [
    "class Directory:\n",
    "    def __init__(self, name):\n",
    "        self.name = name\n",
    "        self.contents = []\n",
    "        self.parent = None\n",
    "            \n",
    "    def add_subdir(self, subdir_name):\n",
    "        self.contents.append(Directory(subdir_name))\n",
    "        self.contents[-1].parent = self\n",
    "        self.contents.sort(key=lambda x: x.name)\n",
    "    \n",
    "    def add_file(self, file_name, file_size):\n",
    "        self.contents.append(File(file_name, file_size))\n",
    "        self.contents.sort(key=lambda x: x.name)\n",
    "    \n",
    "    def get_size(self):\n",
    "        size = 0\n",
    "        for item in self.contents:\n",
    "            if isinstance(item, File):\n",
    "                size += item.size\n",
    "            else:\n",
    "                size += item.get_size()\n",
    "        \n",
    "        return size\n",
    "    \n",
    "    def __str__(self, level=0):\n",
    "        if self.name == '/':\n",
    "            s = '  ' * level + '- ' + self.name + '\\n'\n",
    "        else:\n",
    "            s = '  ' * level + '- ' + self.name + '/\\n'\n",
    "            \n",
    "        for item in self.contents:\n",
    "            if isinstance(item, File):\n",
    "                s += '  ' * (level + 1) + '- ' + f'{item.name} ({item.size})' + '\\n'\n",
    "            else:\n",
    "                s += item.__str__(level + 1)\n",
    "        \n",
    "        return s"
   ]
  },
  {
   "cell_type": "code",
   "execution_count": 142,
   "metadata": {},
   "outputs": [],
   "source": [
    "def parse_input(filepath):\n",
    "    with open(filepath) as f:\n",
    "        lines = f.readlines()\n",
    "\n",
    "    for i in range(len(lines)):\n",
    "        lines[i] = lines[i].strip()\n",
    "    \n",
    "    root = Directory('/')\n",
    "    cwd = root\n",
    "    line_num = 1\n",
    "    while line_num < len(lines):\n",
    "        line = lines[line_num]\n",
    "\n",
    "        if line.startswith('$'):\n",
    "            command = line[2:]\n",
    "\n",
    "            if command == 'ls':\n",
    "                i = line_num + 1\n",
    "                while i < len(lines) and not lines[i].startswith('$'):\n",
    "                    if lines[i].startswith('dir'):\n",
    "                        cwd.add_subdir(lines[i].split(' ')[1])\n",
    "                    else:\n",
    "                        size, name = lines[i].split(' ')\n",
    "                        cwd.add_file(name, size)\n",
    "                    i += 1\n",
    "                line_num = i\n",
    "\n",
    "            elif command.startswith('cd'):\n",
    "                dirname = command[3:]\n",
    "                if dirname == '..':\n",
    "                    cwd = cwd.parent\n",
    "                else:\n",
    "                    for item in cwd.contents:\n",
    "                        if isinstance(item, Directory) and item.name == dirname:\n",
    "                            cwd = item\n",
    "                            break\n",
    "                line_num += 1\n",
    "    return root"
   ]
  },
  {
   "attachments": {},
   "cell_type": "markdown",
   "metadata": {},
   "source": [
    "## Create Filesystem"
   ]
  },
  {
   "attachments": {},
   "cell_type": "markdown",
   "metadata": {},
   "source": [
    "## Calculate Size"
   ]
  },
  {
   "cell_type": "code",
   "execution_count": 143,
   "metadata": {},
   "outputs": [
    {
     "name": "stdout",
     "output_type": "stream",
     "text": [
      "1454188\n"
     ]
    }
   ],
   "source": [
    "root = parse_input(input_file)\n",
    "\n",
    "size = 0\n",
    "dirs = [root]\n",
    "for dir_ in dirs:\n",
    "    dir_size = dir_.get_size()\n",
    "    if dir_size <= 100_000:\n",
    "        size += dir_size\n",
    "    # print(f'{dir_.name}: {dir_.get_size()}')\n",
    "\n",
    "    dirs.extend(item for item in dir_.contents if isinstance(item, Directory))\n",
    "print(size)"
   ]
  },
  {
   "attachments": {},
   "cell_type": "markdown",
   "metadata": {},
   "source": [
    "# Problem 2"
   ]
  },
  {
   "cell_type": "code",
   "execution_count": 144,
   "metadata": {},
   "outputs": [
    {
     "name": "stdout",
     "output_type": "stream",
     "text": [
      "43837783\n"
     ]
    }
   ],
   "source": [
    "TOTAL_SPACE = 70_000_000\n",
    "DESIRED_SPACE = 30_000_000\n",
    "\n",
    "current_usage = root.get_size()\n",
    "print(current_usage)"
   ]
  },
  {
   "cell_type": "code",
   "execution_count": 148,
   "metadata": {},
   "outputs": [
    {
     "name": "stdout",
     "output_type": "stream",
     "text": [
      "('wvq', 4183246)\n"
     ]
    }
   ],
   "source": [
    "dirs = [item for item in root.contents if isinstance(item, Directory)]\n",
    "\n",
    "options = []\n",
    "for dir_ in dirs:\n",
    "    dir_size = dir_.get_size()\n",
    "    if current_usage - dir_size + DESIRED_SPACE <= TOTAL_SPACE:\n",
    "        options.append((dir_.name, dir_size))\n",
    "\n",
    "    dirs.extend(item for item in dir_.contents if isinstance(item, Directory))\n",
    "\n",
    "print(min(options, key=lambda x: x[1]))"
   ]
  },
  {
   "cell_type": "code",
   "execution_count": null,
   "metadata": {},
   "outputs": [],
   "source": []
  }
 ],
 "metadata": {
  "kernelspec": {
   "display_name": "Python 3.9.13 ('base')",
   "language": "python",
   "name": "python3"
  },
  "language_info": {
   "codemirror_mode": {
    "name": "ipython",
    "version": 3
   },
   "file_extension": ".py",
   "mimetype": "text/x-python",
   "name": "python",
   "nbconvert_exporter": "python",
   "pygments_lexer": "ipython3",
   "version": "3.9.13"
  },
  "orig_nbformat": 4,
  "vscode": {
   "interpreter": {
    "hash": "f6dbc63024bf0ec2d5d5337c5b9b5ae6ba32b312e796357a44028406a7cd10bd"
   }
  }
 },
 "nbformat": 4,
 "nbformat_minor": 2
}
