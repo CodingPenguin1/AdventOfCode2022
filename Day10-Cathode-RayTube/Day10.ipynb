{
 "cells": [
  {
   "cell_type": "code",
   "execution_count": 1,
   "metadata": {},
   "outputs": [],
   "source": [
    "filepath = 'Day10Input.txt'"
   ]
  },
  {
   "attachments": {},
   "cell_type": "markdown",
   "metadata": {},
   "source": [
    "# Problem 1"
   ]
  },
  {
   "cell_type": "code",
   "execution_count": 2,
   "metadata": {},
   "outputs": [],
   "source": [
    "with open(filepath) as f:\n",
    "    lines = [i.strip() for i in f.readlines()]"
   ]
  },
  {
   "cell_type": "code",
   "execution_count": 3,
   "metadata": {},
   "outputs": [],
   "source": [
    "values = [1]\n",
    "for line in lines:\n",
    "    values.append(values[-1])\n",
    "    if line.startswith('addx'):\n",
    "        new_val = int(line.split(' ')[1])\n",
    "        values.append(values[-1] + new_val)"
   ]
  },
  {
   "cell_type": "code",
   "execution_count": 4,
   "metadata": {},
   "outputs": [
    {
     "name": "stdout",
     "output_type": "stream",
     "text": [
      "15360\n"
     ]
    }
   ],
   "source": [
    "sum_ = sum(values[i] * (i + 1) for i in (19, 59, 99, 139, 179, 219))\n",
    "print(sum_)"
   ]
  },
  {
   "attachments": {},
   "cell_type": "markdown",
   "metadata": {},
   "source": [
    "# Problem 2"
   ]
  },
  {
   "cell_type": "code",
   "execution_count": 5,
   "metadata": {},
   "outputs": [
    {
     "name": "stdout",
     "output_type": "stream",
     "text": [
      "# # #     #     #   #         #     #       # #     # #     # # # #     # #    \n",
      "#     #   #     #   #         #     #         #   #     #         #   #     #  \n",
      "#     #   # # # #   #         # # # #         #   #             #     #     #  \n",
      "# # #     #     #   #         #     #         #   #   # #     #       # # # #  \n",
      "#         #     #   #         #     #   #     #   #     #   #         #     #  \n",
      "#         #     #   # # # #   #     #     # #       # # #   # # # #   #     #  \n"
     ]
    }
   ],
   "source": [
    "import numpy as np\n",
    "\n",
    "\n",
    "screen = np.full((6, 40), ' ')\n",
    "for cycle in range(len(values)):\n",
    "    sprite_location = values[cycle]\n",
    "    \n",
    "    if abs(sprite_location - (cycle % 40)) < 2:\n",
    "        screen_row = cycle // 40\n",
    "        screen_col = cycle % 40\n",
    "        screen[screen_row][screen_col] = '#'\n",
    "\n",
    "for row in screen:\n",
    "    print(' '.join(row))"
   ]
  },
  {
   "cell_type": "code",
   "execution_count": null,
   "metadata": {},
   "outputs": [],
   "source": []
  }
 ],
 "metadata": {
  "kernelspec": {
   "display_name": "base",
   "language": "python",
   "name": "python3"
  },
  "language_info": {
   "codemirror_mode": {
    "name": "ipython",
    "version": 3
   },
   "file_extension": ".py",
   "mimetype": "text/x-python",
   "name": "python",
   "nbconvert_exporter": "python",
   "pygments_lexer": "ipython3",
   "version": "3.9.13 (main, Aug 25 2022, 23:51:50) [MSC v.1916 64 bit (AMD64)]"
  },
  "orig_nbformat": 4,
  "vscode": {
   "interpreter": {
    "hash": "f6dbc63024bf0ec2d5d5337c5b9b5ae6ba32b312e796357a44028406a7cd10bd"
   }
  }
 },
 "nbformat": 4,
 "nbformat_minor": 2
}
